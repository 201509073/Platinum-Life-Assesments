{
 "cells": [
  {
   "cell_type": "code",
   "execution_count": 24,
   "id": "96e4d39b",
   "metadata": {},
   "outputs": [],
   "source": [
    "import re\n",
    "def is_date_format_correct(date:str)->bool:\n",
    "    \"\"\"\n",
    "    This function takes in a date in string format\n",
    "    and returns true if the date matches the format\n",
    "    YYYY-MM-DD and false if it doesn't\n",
    "    \"\"\"\n",
    "\n",
    "    date_format = re.compile(\"^\\d{4}-\\d{2}-\\d{2}$\") #compile regular expression pattern\n",
    "    return date_format.search(date) != None #check if date matches pattern and return true or false\n",
    "\n"
   ]
  },
  {
   "cell_type": "code",
   "execution_count": 20,
   "id": "93616003",
   "metadata": {},
   "outputs": [
    {
     "name": "stdout",
     "output_type": "stream",
     "text": [
      "1,2,3,4,5,7,8,9,10,"
     ]
    }
   ],
   "source": [
    "for i in range(1, 11):\n",
    "    if i==6:\n",
    "        continue\n",
    "    else:\n",
    "        print(i, end=',')"
   ]
  },
  {
   "cell_type": "code",
   "execution_count": 23,
   "id": "427631b3",
   "metadata": {},
   "outputs": [],
   "source": [
    "from datetime import datetime, timedelta\n",
    "\n",
    "def compute_prev_date(dates_list: list):\n",
    "    return [datetime.strftime((datetime.strptime(date, '%Y-%m-%d') - timedelta(days=1)), '%d %b %Y') for date in dates_list]"
   ]
  },
  {
   "cell_type": "code",
   "execution_count": 29,
   "id": "28900f60",
   "metadata": {},
   "outputs": [],
   "source": [
    "def main():\n",
    "    qty = None\n",
    "    cost = None\n",
    "    def fetch_quantity():\n",
    "        \"\"\"\n",
    "        Returns a number, any number\n",
    "        \"\"\"\n",
    "        ...\n",
    "        return ...\n",
    "    def fetch_cost():\n",
    "        \"\"\"\n",
    "        Returns a number, any number\n",
    "        \"\"\"\n",
    "        ...\n",
    "        return ...\n",
    "    def compute_cost_per_quantity():\n",
    "        try:\n",
    "            qty = fetch_quantity()\n",
    "            cost = fetch_cost()\n",
    "            cost_per_quantity = cost/qty\n",
    "            return cost_per_quantity\n",
    "        except Exception as e:\n",
    "            print(e)\n",
    "            sys.exit()\n",
    "    try:\n",
    "        cost_per_quantity = compute_cost_per_quantity()\n",
    "    except ZeroDivisionError as e:\n",
    "        print(e)\n",
    "    a = 1 + 2 + cost_per_quantity\n",
    "    b = 4 + 5\n",
    "    print(a+b)\n",
    "    \n"
   ]
  },
  {
   "cell_type": "code",
   "execution_count": 34,
   "id": "32affca1",
   "metadata": {},
   "outputs": [
    {
     "ename": "ModuleNotFoundError",
     "evalue": "No module named 'rest_framework'",
     "output_type": "error",
     "traceback": [
      "\u001b[1;31m---------------------------------------------------------------------------\u001b[0m",
      "\u001b[1;31mModuleNotFoundError\u001b[0m                       Traceback (most recent call last)",
      "\u001b[1;32m~\\AppData\\Local\\Temp\\ipykernel_16208\\1437325172.py\u001b[0m in \u001b[0;36m<module>\u001b[1;34m\u001b[0m\n\u001b[1;32m----> 1\u001b[1;33m \u001b[1;32mfrom\u001b[0m \u001b[0mrest_framework\u001b[0m \u001b[1;32mimport\u001b[0m \u001b[0mstatus\u001b[0m\u001b[1;33m\u001b[0m\u001b[1;33m\u001b[0m\u001b[0m\n\u001b[0m\u001b[0;32m      2\u001b[0m \u001b[1;32mfrom\u001b[0m \u001b[0mrest_framework\u001b[0m\u001b[1;33m.\u001b[0m\u001b[0mresponse\u001b[0m \u001b[1;32mimport\u001b[0m \u001b[0mResponse\u001b[0m\u001b[1;33m\u001b[0m\u001b[1;33m\u001b[0m\u001b[0m\n\u001b[0;32m      3\u001b[0m \u001b[1;32mfrom\u001b[0m \u001b[0mrest_framework\u001b[0m\u001b[1;33m.\u001b[0m\u001b[0mdecorators\u001b[0m \u001b[1;32mimport\u001b[0m \u001b[0mapi_view\u001b[0m\u001b[1;33m\u001b[0m\u001b[1;33m\u001b[0m\u001b[0m\n\u001b[0;32m      4\u001b[0m \u001b[1;33m\u001b[0m\u001b[0m\n\u001b[0;32m      5\u001b[0m \u001b[1;33m@\u001b[0m\u001b[0mapi_view\u001b[0m\u001b[1;33m(\u001b[0m\u001b[1;33m[\u001b[0m\u001b[1;34m'GET'\u001b[0m\u001b[1;33m]\u001b[0m\u001b[1;33m)\u001b[0m\u001b[1;33m\u001b[0m\u001b[1;33m\u001b[0m\u001b[0m\n",
      "\u001b[1;31mModuleNotFoundError\u001b[0m: No module named 'rest_framework'"
     ]
    }
   ],
   "source": [
    "from rest_framework import status\n",
    "from rest_framework.response import Response\n",
    "from rest_framework.decorators import api_view\n",
    "\n",
    "@api_view(['GET'])\n",
    "def get_params(request):\n",
    "    name = request.GET.get('name')\n",
    "    surname = request.GET.get('surname')\n",
    "    content = {'name': name, 'surname': surname}\n",
    "    return Response(content, status=status.HTTP_200_OK)\n",
    "\n"
   ]
  },
  {
   "cell_type": "code",
   "execution_count": 33,
   "id": "1a94e0ce",
   "metadata": {},
   "outputs": [],
   "source": [
    "class TestMath:\n",
    "    def __init__(self, x, y):\n",
    "        self.x = x\n",
    "        self.y = y\n",
    "        \n",
    "    def test_add(self):\n",
    "        return self.x + self.y\n",
    "    \n",
    "    def test_subtract(self):\n",
    "        return self.x - self.y\n",
    "    \n",
    "    def test_multiply(self):\n",
    "        return self.x * self.y\n"
   ]
  },
  {
   "cell_type": "code",
   "execution_count": null,
   "id": "94207416",
   "metadata": {},
   "outputs": [],
   "source": []
  }
 ],
 "metadata": {
  "kernelspec": {
   "display_name": "Python 3 (ipykernel)",
   "language": "python",
   "name": "python3"
  },
  "language_info": {
   "codemirror_mode": {
    "name": "ipython",
    "version": 3
   },
   "file_extension": ".py",
   "mimetype": "text/x-python",
   "name": "python",
   "nbconvert_exporter": "python",
   "pygments_lexer": "ipython3",
   "version": "3.9.13"
  }
 },
 "nbformat": 4,
 "nbformat_minor": 5
}
